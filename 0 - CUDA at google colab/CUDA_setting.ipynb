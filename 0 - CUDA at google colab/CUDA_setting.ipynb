{
  "nbformat": 4,
  "nbformat_minor": 0,
  "metadata": {
    "colab": {
      "provenance": [],
      "toc_visible": true
    },
    "kernelspec": {
      "name": "python3",
      "display_name": "Python 3"
    },
    "language_info": {
      "name": "python"
    },
    "accelerator": "GPU",
    "gpuClass": "standard"
  },
  "cells": [
    {
      "cell_type": "markdown",
      "source": [
        "# CUDA setting"
      ],
      "metadata": {
        "id": "YDCCA9PHy_6B"
      }
    },
    {
      "cell_type": "code",
      "source": [
        "!nvcc --version\n",
        "!pip install git+https://github.com/andreinechaev/nvcc4jupyter.git\n",
        "%load_ext nvcc_plugin\n",
        "!nvidia-smi"
      ],
      "metadata": {
        "id": "cFjNPtYt9ObU",
        "colab": {
          "base_uri": "https://localhost:8080/"
        },
        "outputId": "9d122b60-be93-4837-85f4-119a5b5ebc8b"
      },
      "execution_count": 8,
      "outputs": [
        {
          "output_type": "stream",
          "name": "stdout",
          "text": [
            "nvcc: NVIDIA (R) Cuda compiler driver\n",
            "Copyright (c) 2005-2021 NVIDIA Corporation\n",
            "Built on Sun_Feb_14_21:12:58_PST_2021\n",
            "Cuda compilation tools, release 11.2, V11.2.152\n",
            "Build cuda_11.2.r11.2/compiler.29618528_0\n",
            "Looking in indexes: https://pypi.org/simple, https://us-python.pkg.dev/colab-wheels/public/simple/\n",
            "Collecting git+https://github.com/andreinechaev/nvcc4jupyter.git\n",
            "  Cloning https://github.com/andreinechaev/nvcc4jupyter.git to /tmp/pip-req-build-m17menx2\n",
            "  Running command git clone --filter=blob:none --quiet https://github.com/andreinechaev/nvcc4jupyter.git /tmp/pip-req-build-m17menx2\n",
            "  Resolved https://github.com/andreinechaev/nvcc4jupyter.git to commit aac710a35f52bb78ab34d2e52517237941399eff\n",
            "  Preparing metadata (setup.py) ... \u001b[?25l\u001b[?25hdone\n",
            "The nvcc_plugin extension is already loaded. To reload it, use:\n",
            "  %reload_ext nvcc_plugin\n",
            "Wed Feb  1 07:00:13 2023       \n",
            "+-----------------------------------------------------------------------------+\n",
            "| NVIDIA-SMI 510.47.03    Driver Version: 510.47.03    CUDA Version: 11.6     |\n",
            "|-------------------------------+----------------------+----------------------+\n",
            "| GPU  Name        Persistence-M| Bus-Id        Disp.A | Volatile Uncorr. ECC |\n",
            "| Fan  Temp  Perf  Pwr:Usage/Cap|         Memory-Usage | GPU-Util  Compute M. |\n",
            "|                               |                      |               MIG M. |\n",
            "|===============================+======================+======================|\n",
            "|   0  Tesla T4            Off  | 00000000:00:04.0 Off |                    0 |\n",
            "| N/A   49C    P0    27W /  70W |      0MiB / 15360MiB |      0%      Default |\n",
            "|                               |                      |                  N/A |\n",
            "+-------------------------------+----------------------+----------------------+\n",
            "                                                                               \n",
            "+-----------------------------------------------------------------------------+\n",
            "| Processes:                                                                  |\n",
            "|  GPU   GI   CI        PID   Type   Process name                  GPU Memory |\n",
            "|        ID   ID                                                   Usage      |\n",
            "|=============================================================================|\n",
            "|  No running processes found                                                 |\n",
            "+-----------------------------------------------------------------------------+\n"
          ]
        }
      ]
    },
    {
      "cell_type": "markdown",
      "source": [
        "# How to write CUDA C files in google colab"
      ],
      "metadata": {
        "id": "Kb6YpmzKzEc6"
      }
    },
    {
      "cell_type": "code",
      "source": [
        "%%writefile test.cu\n",
        "\n",
        "#include <stdio.h>\n",
        "\n",
        "__device__ void hiDeviceFunction(void)\n",
        "{ \n",
        "  printf(\"Hello! This is in hiDeviceFunction. \\n\");\n",
        "}\n",
        "\n",
        "__global__ void helloCUDA(void)\n",
        "{\n",
        "  printf(\"Hello thread %d\\n\", threadIdx.x);\n",
        "  hiDeviceFunction();\n",
        "}\n",
        "\n",
        "int main()\n",
        "{\n",
        "  helloCUDA<<<1, 1>>>();\n",
        "  return 0;\n",
        "}"
      ],
      "metadata": {
        "colab": {
          "base_uri": "https://localhost:8080/"
        },
        "id": "Pd3m8DzCx7Yq",
        "outputId": "33c8a50f-54b4-413b-9ca1-f1dcae0fea20"
      },
      "execution_count": 10,
      "outputs": [
        {
          "output_type": "stream",
          "name": "stdout",
          "text": [
            "Writing test.cu\n"
          ]
        }
      ]
    },
    {
      "cell_type": "markdown",
      "source": [
        "# How to compile and execute"
      ],
      "metadata": {
        "id": "aX3h45tazK-f"
      }
    },
    {
      "cell_type": "code",
      "source": [
        "!nvcc -o test test.cu"
      ],
      "metadata": {
        "id": "N1QsMxshyMKZ"
      },
      "execution_count": 11,
      "outputs": []
    },
    {
      "cell_type": "code",
      "source": [
        "!./test"
      ],
      "metadata": {
        "id": "DWQUXv87yQG2"
      },
      "execution_count": 13,
      "outputs": []
    },
    {
      "cell_type": "markdown",
      "source": [
        "# Performance Profiling"
      ],
      "metadata": {
        "id": "E7e0ZAPkzRp0"
      }
    },
    {
      "cell_type": "code",
      "source": [
        "!nvprof ./test"
      ],
      "metadata": {
        "colab": {
          "base_uri": "https://localhost:8080/"
        },
        "id": "z7-Y1NEOyuSS",
        "outputId": "1faf3b02-eb99-4f8b-e628-19d2c1b46d80"
      },
      "execution_count": 18,
      "outputs": [
        {
          "output_type": "stream",
          "name": "stdout",
          "text": [
            "==4791== NVPROF is profiling process 4791, command: ./test\n",
            "==4791== Profiling application: ./test\n",
            "==4791== Warning: 1 records have invalid timestamps due to insufficient device buffer space. You can configure the buffer space using the option --device-buffer-size.\n",
            "==4791== Profiling result:\n",
            "No kernels were profiled.\n",
            "            Type  Time(%)      Time     Calls       Avg       Min       Max  Name\n",
            "      API calls:   99.94%  263.78ms         1  263.78ms  263.78ms  263.78ms  cudaLaunchKernel\n",
            "                    0.05%  121.94us       101  1.2070us     129ns  52.516us  cuDeviceGetAttribute\n",
            "                    0.01%  30.501us         1  30.501us  30.501us  30.501us  cuDeviceGetName\n",
            "                    0.00%  7.8740us         1  7.8740us  7.8740us  7.8740us  cuDeviceGetPCIBusId\n",
            "                    0.00%  1.8570us         3     619ns     159ns  1.2760us  cuDeviceGetCount\n",
            "                    0.00%  1.5500us         2     775ns     489ns  1.0610us  cuDeviceGet\n",
            "                    0.00%     382ns         1     382ns     382ns     382ns  cuDeviceTotalMem\n",
            "                    0.00%     301ns         1     301ns     301ns     301ns  cuDeviceGetUuid\n"
          ]
        }
      ]
    },
    {
      "cell_type": "code",
      "source": [
        "!time ./test"
      ],
      "metadata": {
        "colab": {
          "base_uri": "https://localhost:8080/"
        },
        "id": "qnbB9IQlzZdK",
        "outputId": "77b7b810-2e64-42ab-fada-1b7f792c4e82"
      },
      "execution_count": 19,
      "outputs": [
        {
          "output_type": "stream",
          "name": "stdout",
          "text": [
            "\n",
            "real\t0m0.885s\n",
            "user\t0m0.017s\n",
            "sys\t0m0.804s\n"
          ]
        }
      ]
    }
  ]
}