{
  "nbformat": 4,
  "nbformat_minor": 0,
  "metadata": {
    "colab": {
      "provenance": []
    },
    "kernelspec": {
      "name": "python3",
      "display_name": "Python 3"
    },
    "language_info": {
      "name": "python"
    },
    "accelerator": "GPU",
    "gpuClass": "standard"
  },
  "cells": [
    {
      "cell_type": "code",
      "source": [
        "!nvcc --version\n",
        "!pip install git+https://github.com/andreinechaev/nvcc4jupyter.git\n",
        "%load_ext nvcc_plugin\n",
        "!nvidia-smi"
      ],
      "metadata": {
        "id": "cFjNPtYt9ObU"
      },
      "execution_count": null,
      "outputs": []
    },
    {
      "cell_type": "markdown",
      "source": [
        "# GPU spec"
      ],
      "metadata": {
        "id": "7FDLdUdw4WfY"
      }
    },
    {
      "cell_type": "code",
      "source": [
        "%%writefile gpu-spec.cu\n",
        "\n",
        "#include <stdio.h>\n",
        "int main(void)\n",
        "{\n",
        "  int devId;\n",
        "  cudaGetDevice(&devId);\n",
        "\n",
        "  cudaDeviceProp props;\n",
        "  cudaGetDeviceProperties(&props,devId);\n",
        "  \n",
        "  int computeCapabilityMajor = props.major;\n",
        "  int computeCapabilityMinor = props.minor;\n",
        "  int multiProcessorCount = props.multiProcessorCount;\n",
        "  int warpSize = props.warpSize;\n",
        "\n",
        "  printf(\"Device ID: %d\\nNumber of SMs: %d\\nCompute Capability Major: %d\\nCompute Capability Minor: %d\\nWarp Size: %d\\n\", devId, multiProcessorCount, computeCapabilityMajor, computeCapabilityMinor, warpSize);\n",
        "\n",
        "  return 0;\n",
        "}"
      ],
      "metadata": {
        "colab": {
          "base_uri": "https://localhost:8080/"
        },
        "id": "Pd3m8DzCx7Yq",
        "outputId": "b77ecdf7-cd65-4e0e-c155-943850864caf"
      },
      "execution_count": 24,
      "outputs": [
        {
          "output_type": "stream",
          "name": "stdout",
          "text": [
            "Overwriting gpu-spec.cu\n"
          ]
        }
      ]
    },
    {
      "cell_type": "code",
      "source": [
        "!nvcc -o gpu-spec gpu-spec.cu\n",
        "!./gpu-spec"
      ],
      "metadata": {
        "colab": {
          "base_uri": "https://localhost:8080/"
        },
        "id": "N1QsMxshyMKZ",
        "outputId": "5be027d9-437d-495e-be6f-f71bb196c80a"
      },
      "execution_count": 25,
      "outputs": [
        {
          "output_type": "stream",
          "name": "stdout",
          "text": [
            "Device ID: 0\n",
            "Number of SMs: 40\n",
            "Compute Capability Major: 7\n",
            "Compute Capability Minor: 5\n",
            "Warp Size: 32\n"
          ]
        }
      ]
    }
  ]
}